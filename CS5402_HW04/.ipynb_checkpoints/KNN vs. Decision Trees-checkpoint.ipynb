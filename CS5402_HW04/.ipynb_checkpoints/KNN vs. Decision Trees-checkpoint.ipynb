{
 "cells": [
  {
   "cell_type": "code",
   "execution_count": 79,
   "metadata": {},
   "outputs": [],
   "source": [
    "########################################\n",
    "# Author: Christopher O'Toole\n",
    "# Assignment: Homework #4\n",
    "# Date: 10/3/2018\n",
    "# Class: CS5402\n",
    "########################################\n",
    "\n",
    "# iris dataset is actually built into\n",
    "# sklearn, so no need to download any\n",
    "# csv files. length is 150 which is\n",
    "# equivalent to the the set linked\n",
    "# in the assignment\n",
    "from sklearn.datasets import load_iris\n",
    "iris = load_iris()"
   ]
  },
  {
   "cell_type": "code",
   "execution_count": 80,
   "metadata": {},
   "outputs": [
    {
     "name": "stdout",
     "output_type": "stream",
     "text": [
      "Training set accuracy: 100.00%\n",
      "Training set f1-score: 1.00\n",
      "Test set accuracy: 100.00%\n",
      "Test set f1-score: 1.00\n",
      "Best accuracies: [1.0, 0.9666666666666667, 0.9333333333333333, 0.9333333333333333, 0.9333333333333333]\n"
     ]
    }
   ],
   "source": [
    "########################################\n",
    "# Implementation of cross-validation \n",
    "# function + decision tree model training\n",
    "# and visualization.\n",
    "########################################\n",
    "from sklearn.tree import DecisionTreeClassifier\n",
    "from sklearn.model_selection import cross_val_score\n",
    "from sklearn import tree\n",
    "from sklearn.metrics import f1_score\n",
    "from sklearn.model_selection import train_test_split\n",
    "import numpy as np\n",
    "\n",
    "# the definitive meaning of life.\n",
    "SEED = 42\n",
    "\n",
    "def my_cross_val_score(clf, X, y, **kwargs):\n",
    "    # basic implementation of the sklearn equivalent \"cross_val_score\"\n",
    "    # note that that this implementation differs in the sense that no\n",
    "    # attempt to perform stratified sampling is made\n",
    "    np.random.seed(SEED)\n",
    "    from sklearn.metrics import accuracy_score\n",
    "    from sklearn.metrics import f1_score\n",
    "    folds = kwargs.get('cv') if 'cv' in kwargs else 5\n",
    "    scoring = kwargs.get('scoring') if 'scoring' in kwargs else 'accuracy'\n",
    "    metrics = {'accuracy': accuracy_score, 'f1_macro': f1_score}\n",
    "    n = len(X)\n",
    "    # create an id for each record\n",
    "    idxs = np.arange(n)\n",
    "    # represents a random shuffle of our dataset records\n",
    "    np.random.shuffle(idxs)\n",
    "    # partition the dataset into relatively equal sized subsets\n",
    "    partitions = [(int(np.ceil(n*(i-1)/folds)), int(np.ceil(n*i/folds))) for i in range(1, folds+1)]\n",
    "    results = []\n",
    "    \n",
    "    for start, end in partitions:\n",
    "        # take advantage of numpy style indexing here by using boolean arrays to indicate which\n",
    "        # elements are in the partition subset\n",
    "        mask = np.zeros(n, np.bool)\n",
    "        mask[start:end] = 1\n",
    "        train_mask = np.invert(mask)\n",
    "        X_train, y_train, X_test, y_test = X[idxs[train_mask]], y[idxs[train_mask]], X[idxs[mask]], y[idxs[mask]]\n",
    "        clf.fit(X_train, y_train)\n",
    "        y_pred = clf.predict(X_test)\n",
    "        # compute macro (unweighted average across classes [one v. all]) f1 score\n",
    "        kwargs = {k: v for k, v in [('average', 'macro')] if 'f1' in scoring}\n",
    "        results.append(metrics[scoring](y_test, y_pred, **kwargs))\n",
    "    \n",
    "    return results\n",
    "    \n",
    "# number of cross-validation folds\n",
    "CROSS_VAL_FOLDS = 5\n",
    "decision_tree = DecisionTreeClassifier(random_state=SEED)\n",
    "accuracies = my_cross_val_score(decision_tree, iris.data, iris.target, cv=CROSS_VAL_FOLDS, scoring='accuracy')\n",
    "decision_tree_eval = (np.mean(accuracies), decision_tree)\n",
    "decision_tree_eval_f1 = (np.mean(my_cross_val_score(decision_tree, iris.data, iris.target, cv=CROSS_VAL_FOLDS, scoring='f1_macro')), decision_tree)\n",
    "# randomly splits the dataset into test and training sets\n",
    "# this wouldn't be that hard to derive from my above splitting algorithm\n",
    "X_train, X_test, y_train, y_test = train_test_split(iris.data, iris.target, test_size=1./CROSS_VAL_FOLDS, random_state=SEED)\n",
    "decision_tree.fit(X_train, y_train)\n",
    "tree.export_graphviz(decision_tree, out_file='tree.dot')\n",
    "y_tree_pred = decision_tree.predict(X_test)\n",
    "y_tree_pred_train = decision_tree.predict(X_train)\n",
    "\n",
    "tree_results = {\n",
    "    'train_acc': decision_tree.score(X_train, y_train), \n",
    "    'train_f1': f1_score(y_train, y_tree_pred_train, average='macro'),\n",
    "    'test_acc': decision_tree.score(X_test, y_test),\n",
    "    'test_f1': f1_score(y_test, y_tree_pred, average='macro')\n",
    "}\n",
    "\n",
    "print('Training set accuracy: {0:.2f}%'.format(tree_results['train_acc']*100))\n",
    "print('Training set f1-score: {0:.2f}'.format(tree_results['train_f1']))\n",
    "print('Test set accuracy: {0:.2f}%'.format(tree_results['test_acc']*100))\n",
    "print('Test set f1-score: {0:.2f}'.format(tree_results['test_f1']))\n",
    "print('Best accuracies:', accuracies)"
   ]
  },
  {
   "cell_type": "code",
   "execution_count": 81,
   "metadata": {},
   "outputs": [
    {
     "data": {
      "text/html": [
       "<div>\n",
       "<style scoped>\n",
       "    .dataframe tbody tr th:only-of-type {\n",
       "        vertical-align: middle;\n",
       "    }\n",
       "\n",
       "    .dataframe tbody tr th {\n",
       "        vertical-align: top;\n",
       "    }\n",
       "\n",
       "    .dataframe thead th {\n",
       "        text-align: right;\n",
       "    }\n",
       "</style>\n",
       "<table border=\"1\" class=\"dataframe\">\n",
       "  <thead>\n",
       "    <tr style=\"text-align: right;\">\n",
       "      <th></th>\n",
       "      <th>k</th>\n",
       "      <th>accuracy</th>\n",
       "      <th>f1-macro-score</th>\n",
       "    </tr>\n",
       "  </thead>\n",
       "  <tbody>\n",
       "    <tr>\n",
       "      <th>0</th>\n",
       "      <td>1</td>\n",
       "      <td>0.960000</td>\n",
       "      <td>0.959943</td>\n",
       "    </tr>\n",
       "    <tr>\n",
       "      <th>1</th>\n",
       "      <td>2</td>\n",
       "      <td>0.960000</td>\n",
       "      <td>0.959943</td>\n",
       "    </tr>\n",
       "    <tr>\n",
       "      <th>2</th>\n",
       "      <td>3</td>\n",
       "      <td>0.966667</td>\n",
       "      <td>0.965934</td>\n",
       "    </tr>\n",
       "    <tr>\n",
       "      <th>3</th>\n",
       "      <td>4</td>\n",
       "      <td>0.973333</td>\n",
       "      <td>0.973364</td>\n",
       "    </tr>\n",
       "    <tr>\n",
       "      <th>4</th>\n",
       "      <td>5</td>\n",
       "      <td>0.973333</td>\n",
       "      <td>0.974237</td>\n",
       "    </tr>\n",
       "  </tbody>\n",
       "</table>\n",
       "</div>"
      ],
      "text/plain": [
       "   k  accuracy  f1-macro-score\n",
       "0  1  0.960000        0.959943\n",
       "1  2  0.960000        0.959943\n",
       "2  3  0.966667        0.965934\n",
       "3  4  0.973333        0.973364\n",
       "4  5  0.973333        0.974237"
      ]
     },
     "execution_count": 81,
     "metadata": {},
     "output_type": "execute_result"
    }
   ],
   "source": [
    "########################################\n",
    "# Tunes the k parameter for our k-nearest\n",
    "# neighbors classifier.\n",
    "########################################\n",
    "from sklearn.neighbors import KNeighborsClassifier\n",
    "import matplotlib.pyplot as plt\n",
    "import numpy as np\n",
    "import pandas as pd\n",
    "%matplotlib inline\n",
    "best = -np.inf\n",
    "evals = {}\n",
    "sequential_evals = [[], [], []]\n",
    "best_accuracies = None\n",
    "MAX_K = 25\n",
    "\n",
    "for k in range(1, MAX_K):\n",
    "    knn_classifier = KNeighborsClassifier(n_neighbors=k, n_jobs=-1)\n",
    "    accuracies = my_cross_val_score(knn_classifier, iris.data, iris.target, cv=CROSS_VAL_FOLDS, scoring='accuracy')\n",
    "    mean_score = np.mean(accuracies)\n",
    "    f1s = my_cross_val_score(knn_classifier, iris.data, iris.target, cv=CROSS_VAL_FOLDS, scoring='f1_macro')\n",
    "    mean_f1_score = np.mean(f1s)\n",
    "    \n",
    "    sequential_evals[0].append(k)\n",
    "    sequential_evals[1].append(mean_score)\n",
    "    sequential_evals[2].append(mean_f1_score)\n",
    "    \n",
    "    if mean_score > best:\n",
    "        evals[mean_score] = (k, knn_classifier)\n",
    "        best = mean_score\n",
    "        best_accuracies = accuracies\n",
    "\n",
    "keys = list(evals.keys())\n",
    "best_model_idx = np.argmax(np.asarray(keys))\n",
    "eval_df = pd.DataFrame(data={key: values for key, values in zip(('k', 'accuracy', 'f1-macro-score'), sequential_evals)})\n",
    "eval_df.head()"
   ]
  },
  {
   "cell_type": "code",
   "execution_count": 82,
   "metadata": {},
   "outputs": [
    {
     "name": "stdout",
     "output_type": "stream",
     "text": [
      "Best KNN model: KNeighborsClassifier(algorithm='auto', leaf_size=30, metric='minkowski',\n",
      "           metric_params=None, n_jobs=-1, n_neighbors=13, p=2,\n",
      "           weights='uniform')\n",
      "Best KNN model training set accuracy: 96.67%\n",
      "Best KNN model training set f1-score: 0.97\n",
      "Best KNN model test accuracy: 100.00%\n",
      "Best KNN model test f1-score: 1.00\n",
      "Best accuracies: [1.0, 1.0, 0.9666666666666667, 0.9666666666666667, 0.9666666666666667]\n"
     ]
    },
    {
     "data": {
      "image/png": "[encoded data removed]",
      "text/plain": [
       "<Figure size 432x288 with 1 Axes>"
      ]
     },
     "metadata": {
      "needs_background": "light"
     },
     "output_type": "display_data"
    }
   ],
   "source": [
    "########################################\n",
    "# Plot k-nearest neighbor accuracies\n",
    "########################################\n",
    "# seaborn creates a good contrast color\n",
    "# scheme for plotting\n",
    "import seaborn as sns\n",
    "ax = sns.barplot(x='k', y='accuracy', data=eval_df)\n",
    "ax.set_ylim(bottom=(eval_df['accuracy'].min() - eval_df['accuracy'].std()), top=1.0)\n",
    "model = evals[keys[best_model_idx]][1]\n",
    "print('Best KNN model:', model)\n",
    "model.fit(X_train, y_train)\n",
    "y_pred_train = model.predict(X_train)\n",
    "y_pred = model.predict(X_test)\n",
    "knn_results = {\n",
    "    'train_acc': model.score(X_train, y_train),\n",
    "    'train_f1': f1_score(y_train, y_pred_train, average='macro'),\n",
    "    'test_acc': model.score(X_test, y_test),\n",
    "    'test_f1': f1_score(y_test, y_pred, average='macro')\n",
    "}\n",
    "print('Best KNN model training set accuracy: {0:.2f}%'.format(knn_results['train_acc']*100))\n",
    "print('Best KNN model training set f1-score: {0:.2f}'.format(knn_results['train_f1']))\n",
    "print('Best KNN model test accuracy: {0:.2f}%'.format(knn_results['test_acc']*100))\n",
    "print('Best KNN model test f1-score: {0:.2f}'.format(knn_results['test_f1']))\n",
    "print('Best accuracies:', best_accuracies)"
   ]
  },
  {
   "cell_type": "code",
   "execution_count": 83,
   "metadata": {},
   "outputs": [
    {
     "data": {
      "text/plain": [
       "(0.9397285013647093, 1.0)"
      ]
     },
     "execution_count": 83,
     "metadata": {},
     "output_type": "execute_result"
    },
    {
     "data": {
      "image/png": "[encoded data removed]",
      "text/plain": [
       "<Figure size 432x288 with 1 Axes>"
      ]
     },
     "metadata": {
      "needs_background": "light"
     },
     "output_type": "display_data"
    }
   ],
   "source": [
    "########################################\n",
    "# Plots the k-nearest neighbor f1 scores\n",
    "########################################\n",
    "ax = sns.barplot(x='k', y='f1-macro-score', data=eval_df)\n",
    "ax.set_ylim(bottom=(eval_df['f1-macro-score'].min() - eval_df['f1-macro-score'].std()), top=1.0)"
   ]
  },
  {
   "cell_type": "code",
   "execution_count": 84,
   "metadata": {},
   "outputs": [
    {
     "data": {
      "text/plain": [
       "(0.9, 1.0)"
      ]
     },
     "execution_count": 84,
     "metadata": {},
     "output_type": "execute_result"
    },
    {
     "data": {
      "image/png": "[encoded data removed]",
      "text/plain": [
       "<Figure size 432x288 with 1 Axes>"
      ]
     },
     "metadata": {
      "needs_background": "light"
     },
     "output_type": "display_data"
    }
   ],
   "source": [
    "########################################\n",
    "# Test set evaluation of our classifiers\n",
    "# over the accuracy metric\n",
    "########################################\n",
    "\n",
    "results = {\n",
    "    'model': ['tree', 'knn'], \n",
    "    'accuracy': [decision_tree_eval[0], keys[best_model_idx]]\n",
    "}\n",
    "\n",
    "decision_tree_vs_knn_df = pd.DataFrame(data=results)\n",
    "decision_tree_vs_knn_df.columns\n",
    "ax = sns.barplot(x='model', y='accuracy', data=decision_tree_vs_knn_df)\n",
    "ax.set_ylim(bottom=.9, top=1.0)"
   ]
  },
  {
   "cell_type": "code",
   "execution_count": 85,
   "metadata": {},
   "outputs": [
    {
     "name": "stdout",
     "output_type": "stream",
     "text": [
      "Index(['model', 'f1-score'], dtype='object')\n"
     ]
    },
    {
     "data": {
      "text/plain": [
       "(0.9, 1.0)"
      ]
     },
     "execution_count": 85,
     "metadata": {},
     "output_type": "execute_result"
    },
    {
     "data": {
      "image/png": "[encoded data removed]",
      "text/plain": [
       "<Figure size 432x288 with 1 Axes>"
      ]
     },
     "metadata": {
      "needs_background": "light"
     },
     "output_type": "display_data"
    }
   ],
   "source": [
    "########################################\n",
    "# Test set evaluation of our classifiers\n",
    "# over the f1 metric\n",
    "########################################\n",
    "\n",
    "f1_results = {\n",
    "    'model': ['tree', 'knn'], \n",
    "    'f1-score': [decision_tree_eval_f1[0], eval_df['f1-macro-score'][best_model_idx]]\n",
    "}\n",
    "\n",
    "decision_tree_vs_knn_df = pd.DataFrame(data=f1_results)\n",
    "print(decision_tree_vs_knn_df.columns)\n",
    "ax = sns.barplot(x='model', y='f1-score', data=decision_tree_vs_knn_df)\n",
    "ax.set_ylim(bottom=.9, top=1.0)"
   ]
  },
  {
   "cell_type": "code",
   "execution_count": 86,
   "metadata": {},
   "outputs": [
    {
     "data": {
      "text/plain": [
       "['knn.joblib']"
      ]
     },
     "execution_count": 86,
     "metadata": {},
     "output_type": "execute_result"
    }
   ],
   "source": [
    "########################################\n",
    "# Save each trained model to a file\n",
    "########################################\n",
    "\n",
    "from sklearn.externals import joblib\n",
    "joblib.dump(decision_tree, 'tree.joblib')\n",
    "joblib.dump(model, 'knn.joblib')\n"
   ]
  },
  {
   "cell_type": "code",
   "execution_count": 87,
   "metadata": {},
   "outputs": [
    {
     "name": "stdout",
     "output_type": "stream",
     "text": [
      "DecisionTreeClassifier(class_weight=None, criterion='gini', max_depth=None,\n",
      "            max_features=None, max_leaf_nodes=None,\n",
      "            min_impurity_decrease=0.0, min_impurity_split=None,\n",
      "            min_samples_leaf=1, min_samples_split=2,\n",
      "            min_weight_fraction_leaf=0.0, presort=False, random_state=42,\n",
      "            splitter='best') [0 0 1 0 0 2 1 0 0 0 2 1 1 0 0 1 2 2 1 2 1 2 1 0 2 1 0 0 0 1 2 0 0 0 1 0 1\n",
      " 2 0 1 2 0 2 2 1 1 2 1 0 1 2 0 0 1 1 0 2 0 0 1 1 2 1 2 2 1 0 0 2 2 0 0 0 1\n",
      " 2 0 2 2 0 1 1 2 1 2 0 2 1 2 1 1 1 0 1 1 0 1 2 2 0 1 2 2 0 2 0 1 2 2 1 2 1\n",
      " 1 2 2 0 1 2 0 1 2]\n",
      "KNeighborsClassifier(algorithm='auto', leaf_size=30, metric='minkowski',\n",
      "           metric_params=None, n_jobs=-1, n_neighbors=13, p=2,\n",
      "           weights='uniform') [0 0 1 0 0 2 1 0 0 0 2 1 1 0 0 1 2 2 1 2 1 2 1 0 2 1 0 0 0 1 2 0 0 0 1 0 1\n",
      " 2 0 1 2 0 2 2 1 1 2 1 0 1 2 0 0 1 2 0 2 0 0 2 1 2 2 2 2 1 0 0 2 2 0 0 0 1\n",
      " 2 0 2 2 0 1 1 2 1 2 0 2 1 2 1 1 1 0 1 1 0 1 2 2 0 1 2 2 0 2 0 1 2 2 1 2 1\n",
      " 1 2 2 0 1 1 0 1 2]\n"
     ]
    }
   ],
   "source": [
    "########################################\n",
    "# Proof of concept to show that loading\n",
    "# the model and then making a prediction\n",
    "# is successful\n",
    "########################################\n",
    "tree = joblib.load('tree.joblib')\n",
    "print(tree, tree.predict(X_train))\n",
    "knn = joblib.load('knn.joblib')\n",
    "print(knn, knn.predict(X_train))"
   ]
  },
  {
   "cell_type": "code",
   "execution_count": null,
   "metadata": {},
   "outputs": [],
   "source": []
  }
 ],
 "metadata": {
  "kernelspec": {
   "display_name": "Python 3",
   "language": "python",
   "name": "python3"
  },
  "language_info": {
   "codemirror_mode": {
    "name": "ipython",
    "version": 3
   },
   "file_extension": ".py",
   "mimetype": "text/x-python",
   "name": "python",
   "nbconvert_exporter": "python",
   "pygments_lexer": "ipython3",
   "version": "3.6.6"
  }
 },
 "nbformat": 4,
 "nbformat_minor": 2
}

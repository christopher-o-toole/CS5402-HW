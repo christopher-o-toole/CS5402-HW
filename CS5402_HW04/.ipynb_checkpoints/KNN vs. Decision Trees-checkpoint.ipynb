{
 "cells": [
  {
   "cell_type": "code",
   "execution_count": 107,
   "metadata": {},
   "outputs": [],
   "source": [
    "from sklearn.datasets import load_iris\n",
    "iris = load_iris()\n"
   ]
  },
  {
   "cell_type": "code",
   "execution_count": 108,
   "metadata": {},
   "outputs": [
    {
     "name": "stdout",
     "output_type": "stream",
     "text": [
      "Training set accuracy: 100.00%\n",
      "Training set f1-score: 1.00\n",
      "Test set accuracy: 100.00%\n",
      "Test set f1-score: 1.00\n",
      "Best accuracies: [0.96666667 0.96666667 0.9        0.93333333 1.        ]\n"
     ]
    }
   ],
   "source": [
    "from sklearn.tree import DecisionTreeClassifier\n",
    "from sklearn.model_selection import cross_val_score\n",
    "from sklearn import tree\n",
    "from sklearn.metrics import f1_score\n",
    "from sklearn.model_selection import train_test_split\n",
    "\n",
    "# the definitive meaning of life.\n",
    "SEED = 42\n",
    "# number of cross-validation folds\n",
    "CROSS_VAL_FOLDS = 5\n",
    "decision_tree = DecisionTreeClassifier(random_state=SEED)\n",
    "accuracies = cross_val_score(decision_tree, iris.data, iris.target, cv=CROSS_VAL_FOLDS, scoring='accuracy')\n",
    "decision_tree_eval = (np.mean(accuracies), decision_tree)\n",
    "decision_tree_eval_f1 = (np.mean(cross_val_score(decision_tree, iris.data, iris.target, cv=CROSS_VAL_FOLDS, scoring='f1_macro')), decision_tree)\n",
    "X_train, X_test, y_train, y_test = train_test_split(iris.data, iris.target, test_size=1./CROSS_VAL_FOLDS, random_state=SEED)\n",
    "decision_tree.fit(X_train, y_train)\n",
    "tree.export_graphviz(decision_tree, out_file='tree.dot')\n",
    "y_tree_pred = decision_tree.predict(X_test)\n",
    "y_tree_pred_train = decision_tree.predict(X_train)\n",
    "\n",
    "tree_results = {\n",
    "    'train_acc': decision_tree.score(X_train, y_train), \n",
    "    'train_f1': f1_score(y_train, y_tree_pred_train, average='macro'),\n",
    "    'test_acc': decision_tree.score(X_test, y_test),\n",
    "    'test_f1': f1_score(y_test, y_tree_pred, average='macro')\n",
    "}\n",
    "print('Training set accuracy: {0:.2f}%'.format(tree_results['train_acc']*100))\n",
    "print('Training set f1-score: {0:.2f}'.format(tree_results['train_f1']))\n",
    "print('Test set accuracy: {0:.2f}%'.format(tree_results['test_acc']*100))\n",
    "print('Test set f1-score: {0:.2f}'.format(tree_results['test_f1']))\n",
    "print('Best accuracies:', accuracies)"
   ]
  },
  {
   "cell_type": "code",
   "execution_count": 109,
   "metadata": {},
   "outputs": [
    {
     "data": {
      "text/html": [
       "<div>\n",
       "<style scoped>\n",
       "    .dataframe tbody tr th:only-of-type {\n",
       "        vertical-align: middle;\n",
       "    }\n",
       "\n",
       "    .dataframe tbody tr th {\n",
       "        vertical-align: top;\n",
       "    }\n",
       "\n",
       "    .dataframe thead th {\n",
       "        text-align: right;\n",
       "    }\n",
       "</style>\n",
       "<table border=\"1\" class=\"dataframe\">\n",
       "  <thead>\n",
       "    <tr style=\"text-align: right;\">\n",
       "      <th></th>\n",
       "      <th>k</th>\n",
       "      <th>accuracy</th>\n",
       "      <th>f1-macro-score</th>\n",
       "    </tr>\n",
       "  </thead>\n",
       "  <tbody>\n",
       "    <tr>\n",
       "      <th>0</th>\n",
       "      <td>1</td>\n",
       "      <td>0.960000</td>\n",
       "      <td>0.959832</td>\n",
       "    </tr>\n",
       "    <tr>\n",
       "      <th>1</th>\n",
       "      <td>2</td>\n",
       "      <td>0.946667</td>\n",
       "      <td>0.946330</td>\n",
       "    </tr>\n",
       "    <tr>\n",
       "      <th>2</th>\n",
       "      <td>3</td>\n",
       "      <td>0.966667</td>\n",
       "      <td>0.966482</td>\n",
       "    </tr>\n",
       "    <tr>\n",
       "      <th>3</th>\n",
       "      <td>4</td>\n",
       "      <td>0.973333</td>\n",
       "      <td>0.973266</td>\n",
       "    </tr>\n",
       "    <tr>\n",
       "      <th>4</th>\n",
       "      <td>5</td>\n",
       "      <td>0.973333</td>\n",
       "      <td>0.973165</td>\n",
       "    </tr>\n",
       "  </tbody>\n",
       "</table>\n",
       "</div>"
      ],
      "text/plain": [
       "   k  accuracy  f1-macro-score\n",
       "0  1  0.960000        0.959832\n",
       "1  2  0.946667        0.946330\n",
       "2  3  0.966667        0.966482\n",
       "3  4  0.973333        0.973266\n",
       "4  5  0.973333        0.973165"
      ]
     },
     "execution_count": 109,
     "metadata": {},
     "output_type": "execute_result"
    }
   ],
   "source": [
    "from sklearn.neighbors import KNeighborsClassifier\n",
    "import matplotlib.pyplot as plt\n",
    "import numpy as np\n",
    "import pandas as pd\n",
    "%matplotlib inline\n",
    "best = -np.inf\n",
    "evals = {}\n",
    "sequential_evals = [[], [], []]\n",
    "best_accuracies = None\n",
    "MAX_K = 25\n",
    "\n",
    "for k in range(1, MAX_K):\n",
    "    knn_classifier = KNeighborsClassifier(n_neighbors=k, n_jobs=-1)\n",
    "    accuracies = cross_val_score(knn_classifier, iris.data, iris.target, cv=CROSS_VAL_FOLDS, n_jobs=-1, scoring='accuracy')\n",
    "    mean_score = np.mean(accuracies)\n",
    "    f1s = cross_val_score(knn_classifier, iris.data, iris.target, cv=CROSS_VAL_FOLDS, n_jobs=-1, scoring='f1_macro')\n",
    "    mean_f1_score = np.mean(f1s)\n",
    "    \n",
    "    sequential_evals[0].append(k)\n",
    "    sequential_evals[1].append(mean_score)\n",
    "    sequential_evals[2].append(mean_f1_score)\n",
    "    \n",
    "    if mean_score > best:\n",
    "        evals[mean_score] = (k, knn_classifier)\n",
    "        best = mean_score\n",
    "        best_accuracies = accuracies\n",
    "\n",
    "keys = list(evals.keys())\n",
    "best_model_idx = np.argmax(np.asarray(keys))\n",
    "eval_df = pd.DataFrame(data={key: values for key, values in zip(('k', 'accuracy', 'f1-macro-score'), sequential_evals)})\n",
    "eval_df.head()"
   ]
  },
  {
   "cell_type": "code",
   "execution_count": 110,
   "metadata": {},
   "outputs": [
    {
     "name": "stdout",
     "output_type": "stream",
     "text": [
      "Best KNN model: KNeighborsClassifier(algorithm='auto', leaf_size=30, metric='minkowski',\n",
      "           metric_params=None, n_jobs=-1, n_neighbors=6, p=2,\n",
      "           weights='uniform')\n",
      "Best KNN model training set accuracy: 96.67%\n",
      "Best KNN model training set f1-score: 0.97\n",
      "Best KNN model test accuracy: 100.00%\n",
      "Best KNN model test f1-score: 1.00\n",
      "Best accuracies: [0.96666667 1.         0.96666667 0.96666667 1.        ]\n"
     ]
    },
    {
     "data": {
      "image/png": "[encoded data removed]",
      "text/plain": [
       "<Figure size 432x288 with 1 Axes>"
      ]
     },
     "metadata": {
      "needs_background": "light"
     },
     "output_type": "display_data"
    }
   ],
   "source": [
    "import seaborn as sns\n",
    "ax = sns.barplot(x='k', y='accuracy', data=eval_df)\n",
    "ax.set_ylim(bottom=(eval_df['accuracy'].min() - eval_df['accuracy'].std()), top=1.0)\n",
    "model = evals[keys[best_model_idx]][1]\n",
    "print('Best KNN model:', model)\n",
    "model.fit(X_train, y_train)\n",
    "y_pred_train = model.predict(X_train)\n",
    "y_pred = model.predict(X_test)\n",
    "knn_results = {\n",
    "    'train_acc': model.score(X_train, y_train),\n",
    "    'train_f1': f1_score(y_train, y_pred_train, average='macro'),\n",
    "    'test_acc': model.score(X_test, y_test),\n",
    "    'test_f1': f1_score(y_test, y_pred, average='macro')\n",
    "}\n",
    "print('Best KNN model training set accuracy: {0:.2f}%'.format(knn_results['train_acc']*100))\n",
    "print('Best KNN model training set f1-score: {0:.2f}'.format(knn_results['train_f1']))\n",
    "print('Best KNN model test accuracy: {0:.2f}%'.format(knn_results['test_acc']*100))\n",
    "print('Best KNN model test f1-score: {0:.2f}'.format(knn_results['test_f1']))\n",
    "print('Best accuracies:', best_accuracies)"
   ]
  },
  {
   "cell_type": "code",
   "execution_count": 111,
   "metadata": {},
   "outputs": [
    {
     "data": {
      "text/plain": [
       "(0.9369314012372253, 1.0)"
      ]
     },
     "execution_count": 111,
     "metadata": {},
     "output_type": "execute_result"
    },
    {
     "data": {
      "image/png": "[encoded data removed]",
      "text/plain": [
       "<Figure size 432x288 with 1 Axes>"
      ]
     },
     "metadata": {
      "needs_background": "light"
     },
     "output_type": "display_data"
    }
   ],
   "source": [
    "ax = sns.barplot(x='k', y='f1-macro-score', data=eval_df)\n",
    "ax.set_ylim(bottom=(eval_df['f1-macro-score'].min() - eval_df['f1-macro-score'].std()), top=1.0)"
   ]
  },
  {
   "cell_type": "code",
   "execution_count": 112,
   "metadata": {},
   "outputs": [
    {
     "data": {
      "text/plain": [
       "(0.9, 1.0)"
      ]
     },
     "execution_count": 112,
     "metadata": {},
     "output_type": "execute_result"
    },
    {
     "data": {
      "image/png": "[encoded data removed]",
      "text/plain": [
       "<Figure size 432x288 with 1 Axes>"
      ]
     },
     "metadata": {
      "needs_background": "light"
     },
     "output_type": "display_data"
    }
   ],
   "source": [
    "results = {\n",
    "    'model': ['tree', 'knn'], \n",
    "    'accuracy': [decision_tree_eval[0], keys[best_model_idx]]\n",
    "}\n",
    "\n",
    "decision_tree_vs_knn_df = pd.DataFrame(data=results)\n",
    "decision_tree_vs_knn_df.columns\n",
    "ax = sns.barplot(x='model', y='accuracy', data=decision_tree_vs_knn_df)\n",
    "ax.set_ylim(bottom=.9, top=1.0)"
   ]
  },
  {
   "cell_type": "code",
   "execution_count": 113,
   "metadata": {},
   "outputs": [
    {
     "name": "stdout",
     "output_type": "stream",
     "text": [
      "Index(['model', 'f1-score'], dtype='object')\n"
     ]
    },
    {
     "data": {
      "text/plain": [
       "(0.9, 1.0)"
      ]
     },
     "execution_count": 113,
     "metadata": {},
     "output_type": "execute_result"
    },
    {
     "data": {
      "image/png": "[encoded data removed]",
      "text/plain": [
       "<Figure size 432x288 with 1 Axes>"
      ]
     },
     "metadata": {
      "needs_background": "light"
     },
     "output_type": "display_data"
    }
   ],
   "source": [
    "f1_results = {\n",
    "    'model': ['tree', 'knn'], \n",
    "    'f1-score': [decision_tree_eval_f1[0], eval_df['f1-macro-score'][best_model_idx]]\n",
    "}\n",
    "\n",
    "decision_tree_vs_knn_df = pd.DataFrame(data=f1_results)\n",
    "print(decision_tree_vs_knn_df.columns)\n",
    "ax = sns.barplot(x='model', y='f1-score', data=decision_tree_vs_knn_df)\n",
    "ax.set_ylim(bottom=.9, top=1.0)"
   ]
  },
  {
   "cell_type": "code",
   "execution_count": null,
   "metadata": {},
   "outputs": [],
   "source": []
  }
 ],
 "metadata": {
  "kernelspec": {
   "display_name": "Python 3",
   "language": "python",
   "name": "python3"
  },
  "language_info": {
   "codemirror_mode": {
    "name": "ipython",
    "version": 3
   },
   "file_extension": ".py",
   "mimetype": "text/x-python",
   "name": "python",
   "nbconvert_exporter": "python",
   "pygments_lexer": "ipython3",
   "version": "3.6.6"
  }
 },
 "nbformat": 4,
 "nbformat_minor": 2
}
